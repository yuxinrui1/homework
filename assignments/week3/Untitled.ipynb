{
 "cells": [
  {
   "cell_type": "code",
   "execution_count": 1,
   "id": "cd0d0c31",
   "metadata": {},
   "outputs": [],
   "source": [
    "import torch\n",
    "from typing import Callable\n",
    "from torch import nn\n",
    "\n",
    "class MLP(nn.Module):\n",
    "    def __init__(\n",
    "        self,\n",
    "        input_size: int,\n",
    "        hidden_size: int,\n",
    "        num_classes: int,\n",
    "        hidden_count: int = 3,\n",
    "        activation: Callable = torch.nn.ReLU,\n",
    "        initializer: Callable = torch.nn.init.xavier_uniform_,\n",
    "    ) -> None:\n",
    "        \"\"\"\n",
    "        Initialize the MLP.\n",
    "\n",
    "        Arguments:\n",
    "            input_size: The dimension D of the input data.\n",
    "            hidden_size: The number of neurons H in the hidden layer.\n",
    "            num_classes: The number of classes C.\n",
    "            activation: The activation function to use in the hidden layer.\n",
    "            initializer: The initializer to use for the weights.\n",
    "        \"\"\"\n",
    "        super().__init__()\n",
    "        self.layers =nn.ModuleList()\n",
    "        self.actv = activation\n",
    "        self.initializer = initializer\n",
    "        for i in range(hidden_size):\n",
    "            out_dim = hidden_size\n",
    "            layer = nn.Linear(input_size,out_dim)\n",
    "            input_size=out_dim\n",
    "            self.initializer(layer.weight)\n",
    "            self.layers+=[layer]\n",
    "        self.out = nn.Linear(hidden_size,num_classes)\n",
    "    def forward(self, x)->(torch):\n",
    "        \"\"\"\n",
    "        Forward pass of the network.\n",
    "\n",
    "        Arguments:\n",
    "            x: The input data.\n",
    "\n",
    "        Returns:\n",
    "            The output of the network.\n",
    "        \"\"\"\n",
    "        for layer in self.layers:\n",
    "            x = self.actv(layer(x))\n",
    "        return self.out(x)\n",
    "\n"
   ]
  },
  {
   "cell_type": "code",
   "execution_count": 12,
   "id": "e4fccaff",
   "metadata": {},
   "outputs": [],
   "source": [
    "import torch\n",
    "from model import MLP\n",
    "\n",
    "\n",
    "def create_model(input_dim: int, output_dim: int) -> MLP:\n",
    "    \"\"\"\n",
    "    Create a multi-layer perceptron model.\n",
    "\n",
    "    Arguments:\n",
    "        input_dim (int): The dimension of the input data.\n",
    "        output_dim (int): The dimension of the output data.\n",
    "        hidden_dims (list): The dimensions of the hidden layers.\n",
    "\n",
    "    Returns:\n",
    "        MLP: The created model.\n",
    "\n",
    "    \"\"\"\n",
    "    return MLP(input_dim, 32, output_dim, 3, torch.nn.ReLU, torch.nn.init.xavier_uniform_)\n",
    "\n",
    "\n",
    "MLP_model=create_model(input_dim= 784, output_dim= 10)"
   ]
  },
  {
   "cell_type": "code",
   "execution_count": 4,
   "id": "ff04df4c",
   "metadata": {},
   "outputs": [],
   "source": [
    "import inspect\n",
    "from model import MLP\n",
    "\n",
    "\n",
    "def test_has_correct_attributes():\n",
    "    \"\"\"\n",
    "    Test that the LinearRegression class has the correct attributes.\n",
    "    \"\"\"\n",
    "    lr = MLP(1, 1, 1)\n",
    "    assert hasattr(lr, \"forward\"), f\"{str(MLP)} does not have method `forward`.\"\n",
    "\n",
    "\n",
    "def test_fn_signatures():\n",
    "    \"\"\"\n",
    "    Disallow untyped signatures.\n",
    "\n",
    "    \"\"\"\n",
    "    from inspect import signature\n",
    "\n",
    "    lr = MLP(1, 1, 1)\n",
    "    # all methods' arguments and returns must be typed.\n",
    "    methods = [\"forward\"]\n",
    "    for method in methods:\n",
    "        assert (\n",
    "            signature(getattr(lr, method)).return_annotation is not inspect._empty\n",
    "        ), f\"The return type of `{method}` is not annotated.\"\n",
    "\n",
    "        # Arguments must be typed.\n",
    "        for param in signature(getattr(lr, method)).parameters.values():\n",
    "            assert (\n",
    "                param.annotation is not inspect._empty\n",
    "            ), f\"The argument type of `{method}:{param.name}` is not annotated.\"\n",
    "\n",
    "\n",
    "def test_docstrings():\n",
    "    \"\"\"\n",
    "    Disallow missing docstrings.\n",
    "\n",
    "    \"\"\"\n",
    "    lr = MLP(1, 1, 1)\n",
    "    # all methods must have a docstring.\n",
    "    methods = [\"forward\"]\n",
    "    for method in methods:\n",
    "        assert (\n",
    "            getattr(lr, method).__doc__ is not None\n",
    "        ), f\"The method `{method}` does not have a docstring.\"\n",
    "\n",
    "    # all classes must have a docstring.\n",
    "    classes = [MLP]\n",
    "    for class_ in classes:\n",
    "        assert (\n",
    "            class_.__doc__ is not None\n",
    "        ), f\"The class `{class_}` does not have a docstring.\"\n",
    "\n"
   ]
  },
  {
   "cell_type": "code",
   "execution_count": 8,
   "id": "acb4504c",
   "metadata": {},
   "outputs": [
    {
     "name": "stdout",
     "output_type": "stream",
     "text": [
      "Requirement already satisfied: pytest in /Users/xinruiyu/opt/anaconda3/lib/python3.8/site-packages (6.2.3)\n",
      "Requirement already satisfied: attrs>=19.2.0 in /Users/xinruiyu/opt/anaconda3/lib/python3.8/site-packages (from pytest) (20.3.0)\n",
      "Requirement already satisfied: iniconfig in /Users/xinruiyu/opt/anaconda3/lib/python3.8/site-packages (from pytest) (1.1.1)\n",
      "Requirement already satisfied: packaging in /Users/xinruiyu/opt/anaconda3/lib/python3.8/site-packages (from pytest) (20.9)\n",
      "Requirement already satisfied: pluggy<1.0.0a1,>=0.12 in /Users/xinruiyu/opt/anaconda3/lib/python3.8/site-packages (from pytest) (0.13.1)\n",
      "Requirement already satisfied: py>=1.8.2 in /Users/xinruiyu/opt/anaconda3/lib/python3.8/site-packages (from pytest) (1.10.0)\n",
      "Requirement already satisfied: toml in /Users/xinruiyu/opt/anaconda3/lib/python3.8/site-packages (from pytest) (0.10.2)\n",
      "Requirement already satisfied: pyparsing>=2.0.2 in /Users/xinruiyu/opt/anaconda3/lib/python3.8/site-packages (from packaging->pytest) (2.4.7)\n",
      "Note: you may need to restart the kernel to use updated packages.\n"
     ]
    }
   ],
   "source": [
    "pip install \"pytest\""
   ]
  },
  {
   "cell_type": "code",
   "execution_count": 11,
   "id": "bdd96ed7",
   "metadata": {},
   "outputs": [
    {
     "data": {
      "text/plain": [
       "<module 'pytest' from '/Users/xinruiyu/opt/anaconda3/lib/python3.8/site-packages/pytest/__init__.py'>"
      ]
     },
     "execution_count": 11,
     "metadata": {},
     "output_type": "execute_result"
    }
   ],
   "source": [
    "pytest"
   ]
  }
 ],
 "metadata": {
  "kernelspec": {
   "display_name": "Python 3",
   "language": "python",
   "name": "python3"
  },
  "language_info": {
   "codemirror_mode": {
    "name": "ipython",
    "version": 3
   },
   "file_extension": ".py",
   "mimetype": "text/x-python",
   "name": "python",
   "nbconvert_exporter": "python",
   "pygments_lexer": "ipython3",
   "version": "3.8.8"
  }
 },
 "nbformat": 4,
 "nbformat_minor": 5
}
